{
  "nbformat": 4,
  "nbformat_minor": 0,
  "metadata": {
    "colab": {
      "provenance": []
    },
    "kernelspec": {
      "name": "python3",
      "display_name": "Python 3"
    },
    "language_info": {
      "name": "python"
    }
  },
  "cells": [
    {
      "cell_type": "markdown",
      "source": [
        "# HISTOGRAM PLOT IN MATPLOTLOIB"
      ],
      "metadata": {
        "id": "4oLKNkxEHZU6"
      }
    },
    {
      "cell_type": "markdown",
      "source": [
        "**HISTOGRAM PLOT USING MATPLOTLIB FUNCTION PLT.HSIT(x)**"
      ],
      "metadata": {
        "id": "pIbn1tKxHduI"
      }
    },
    {
      "cell_type": "code",
      "execution_count": 90,
      "metadata": {
        "colab": {
          "base_uri": "https://localhost:8080/",
          "height": 430
        },
        "id": "Lu7p8u_cHQ54",
        "outputId": "e81e91c5-9915-48bb-d041-95732b825778"
      },
      "outputs": [
        {
          "output_type": "display_data",
          "data": {
            "text/plain": [
              "<Figure size 640x480 with 1 Axes>"
            ],
            "image/png": "[encoded data removed]"
          },
          "metadata": {}
        }
      ],
      "source": [
        "import matplotlib.pyplot as plt\n",
        "import numpy as np\n",
        "\n",
        "x = np.random.randint(20, size= (100)) # here we get random data of 100 numbers between 0 to 20\n",
        "plt.hist(x) # it will create a simple histogram graph\n",
        "plt.show()\n",
        "# but we want space between each bar in hsitogram graph as"
      ]
    },
    {
      "cell_type": "code",
      "source": [
        "# as we know our data is up to 60 so we create a list for x-axis to give graph to distribute our data according to this list as\n",
        "# how we se use bins parameter and pass the list to that bins parameter as :\n",
        "import matplotlib.pyplot as plt\n",
        "import numpy as np\n",
        "x = [42, 11, 14, 38,  8, 14,  6, 55, 28, 47,  2, 20, 53, 52, 11, 46, 16, 41, 15, 50, 37, 37,  0, 56,\n",
        " 40, 19, 41, 25, 26, 22,  2, 13, 34, 29, 46, 17, 58, 4, 31,  8,  9,  4, 50,  6,  2,  2, 13,\n",
        " 40, 54, 45, 21, 15 ,46 ,48,  5, 59, 36, 56, 11, 11, 16,  5, 17, 31, 21, 30, 16, 30, 25, 13, 56,\n",
        " 45, 47, 32, 53, 55, 2, 36, 33, 22,  5, 49, 46,  4, 29,  2, 37, 10, 36, 18, 46, 25, 14, 11, 57,\n",
        " 50, 27, 45, 45]\n",
        "\n",
        "lst_data_distribution = [5,10,15,20,25,30,35,40,45,50,55,60] # distribute data according to these sets\n",
        "\n",
        "\n",
        "plt.hist(x, color = \"g\",  bins = lst_data_distribution, edgecolor = 'r' , cumulative = 0, bottom = 1, align = \"mid\", histtype = \"bar\",\n",
        "         rwidth = 0.8, log = True) # here we set bins as a lst_data_distribution  variable.\n",
        "#...................set bins = \"auto\"....... to apply graplh range 0 to 200 .....now is 60..and ...cumulative 1 or -1 to change frequency of graph\n",
        "\n",
        "plt.axvline(45 , color= \"b\" , label = \"line\" ) # here we set line in out graph to distribue graph\n",
        "plt.grid( )\n",
        "\n",
        "# bottom parameter is used to set starting origion of graph\n",
        "\n",
        "# align parameter is used to set bottom  x-axis numbers or values alignment\n",
        "\n",
        "# rwidth parameter used to produce gap between hsit bars as rwidth = 0.5\n",
        "\n",
        "# histtype parameter used to set types of histogram chart as histtype = \"solid\" or \"step\" or \"stepfilled\" or barstacked or \"bar\"\n",
        "\n",
        "# orientation parameter used to set orientation horizental  of hist chart as orientation = \"horizental\"\n",
        "\n",
        "# axvline function used to set line in out graph to distribue graph  as plt.axvline(45 , color= \"b\" , label = \"line\")\n",
        "\n",
        "# log parameter used to set log values in colums as log = True\n",
        "\n",
        "plt.legend()\n",
        "plt.show()"
      ],
      "metadata": {
        "colab": {
          "base_uri": "https://localhost:8080/",
          "height": 430
        },
        "id": "6k0NwUqjJZcv",
        "outputId": "8aec9a7a-ea8a-44d0-8b6d-9686bf83f3f9"
      },
      "execution_count": 93,
      "outputs": [
        {
          "output_type": "display_data",
          "data": {
            "text/plain": [
              "<Figure size 640x480 with 1 Axes>"
            ],
            "image/png": "[encoded data removed]"
          },
          "metadata": {}
        }
      ]
    }
  ]
}